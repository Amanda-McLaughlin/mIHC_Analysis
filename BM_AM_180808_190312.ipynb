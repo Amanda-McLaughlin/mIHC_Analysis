{
 "cells": [
  {
   "cell_type": "code",
   "execution_count": 117,
   "metadata": {},
   "outputs": [],
   "source": [
    "import csv\n",
    "import numpy as np\n",
    "import pandas as pd\n",
    "import scipy\n",
    "import scipy.stats\n",
    "from scipy.stats import norm\n",
    "from scipy.optimize import curve_fit\n",
    "import matplotlib.pyplot as plt\n",
    "from pylab import *\n",
    "#import fits\n",
    "import copy\n",
    "\n",
    "import sklearn\n",
    "import sklearn.mixture\n",
    "from sklearn.cluster import KMeans\n",
    "from sklearn.decomposition import PCA\n",
    "from sklearn.manifold import TSNE\n",
    "import seaborn as sns\n",
    "#import umap\n",
    "from sklearn.mixture import GaussianMixture\n",
    "sns.set_palette(sns.color_palette(\"hls\", 20))"
   ]
  },
  {
   "cell_type": "code",
   "execution_count": 26,
   "metadata": {},
   "outputs": [
    {
     "data": {
      "text/html": [
       "<div>\n",
       "<style scoped>\n",
       "    .dataframe tbody tr th:only-of-type {\n",
       "        vertical-align: middle;\n",
       "    }\n",
       "\n",
       "    .dataframe tbody tr th {\n",
       "        vertical-align: top;\n",
       "    }\n",
       "\n",
       "    .dataframe thead th {\n",
       "        text-align: right;\n",
       "    }\n",
       "</style>\n",
       "<table border=\"1\" class=\"dataframe\">\n",
       "  <thead>\n",
       "    <tr style=\"text-align: right;\">\n",
       "      <th></th>\n",
       "      <th>image</th>\n",
       "      <th>ind cell index</th>\n",
       "      <th>total cell index</th>\n",
       "      <th>Area</th>\n",
       "      <th>Circ.</th>\n",
       "      <th>AR</th>\n",
       "      <th>Round</th>\n",
       "      <th>Solidity</th>\n",
       "      <th>Pax6_mean</th>\n",
       "      <th>Islet1_mean</th>\n",
       "      <th>...</th>\n",
       "      <th>SCGN_median</th>\n",
       "      <th>Kv2.2_median</th>\n",
       "      <th>DAPI3_median</th>\n",
       "      <th>CAVIII_median</th>\n",
       "      <th>Rec_median</th>\n",
       "      <th>DAPI4_median</th>\n",
       "      <th>Calb_median</th>\n",
       "      <th>PKC_median</th>\n",
       "      <th>Parv_median</th>\n",
       "      <th>DAPI5_median</th>\n",
       "    </tr>\n",
       "  </thead>\n",
       "  <tbody>\n",
       "    <tr>\n",
       "      <th>0</th>\n",
       "      <td>21_s1m1</td>\n",
       "      <td>0</td>\n",
       "      <td>0</td>\n",
       "      <td>0.047</td>\n",
       "      <td>0.458</td>\n",
       "      <td>1.551</td>\n",
       "      <td>0.645</td>\n",
       "      <td>0.795</td>\n",
       "      <td>1093.606</td>\n",
       "      <td>1237.738</td>\n",
       "      <td>...</td>\n",
       "      <td>545</td>\n",
       "      <td>2559</td>\n",
       "      <td>432</td>\n",
       "      <td>2216</td>\n",
       "      <td>14732</td>\n",
       "      <td>363</td>\n",
       "      <td>1005</td>\n",
       "      <td>911</td>\n",
       "      <td>554</td>\n",
       "      <td>383</td>\n",
       "    </tr>\n",
       "    <tr>\n",
       "      <th>1</th>\n",
       "      <td>21_s1m1</td>\n",
       "      <td>1</td>\n",
       "      <td>1</td>\n",
       "      <td>0.032</td>\n",
       "      <td>0.868</td>\n",
       "      <td>1.462</td>\n",
       "      <td>0.684</td>\n",
       "      <td>0.916</td>\n",
       "      <td>389.737</td>\n",
       "      <td>1787.737</td>\n",
       "      <td>...</td>\n",
       "      <td>505</td>\n",
       "      <td>2325</td>\n",
       "      <td>1421</td>\n",
       "      <td>2063</td>\n",
       "      <td>3089</td>\n",
       "      <td>566</td>\n",
       "      <td>625</td>\n",
       "      <td>901</td>\n",
       "      <td>485</td>\n",
       "      <td>2563</td>\n",
       "    </tr>\n",
       "    <tr>\n",
       "      <th>2</th>\n",
       "      <td>21_s1m1</td>\n",
       "      <td>2</td>\n",
       "      <td>2</td>\n",
       "      <td>0.037</td>\n",
       "      <td>0.871</td>\n",
       "      <td>1.156</td>\n",
       "      <td>0.865</td>\n",
       "      <td>0.912</td>\n",
       "      <td>436.575</td>\n",
       "      <td>1095.472</td>\n",
       "      <td>...</td>\n",
       "      <td>1934</td>\n",
       "      <td>2564</td>\n",
       "      <td>2181</td>\n",
       "      <td>2039</td>\n",
       "      <td>2349</td>\n",
       "      <td>578</td>\n",
       "      <td>618</td>\n",
       "      <td>664</td>\n",
       "      <td>304</td>\n",
       "      <td>3695</td>\n",
       "    </tr>\n",
       "    <tr>\n",
       "      <th>3</th>\n",
       "      <td>21_s1m1</td>\n",
       "      <td>3</td>\n",
       "      <td>3</td>\n",
       "      <td>0.044</td>\n",
       "      <td>0.709</td>\n",
       "      <td>1.674</td>\n",
       "      <td>0.597</td>\n",
       "      <td>0.879</td>\n",
       "      <td>576.280</td>\n",
       "      <td>1651.413</td>\n",
       "      <td>...</td>\n",
       "      <td>348</td>\n",
       "      <td>2414</td>\n",
       "      <td>3377</td>\n",
       "      <td>1760</td>\n",
       "      <td>1433</td>\n",
       "      <td>799</td>\n",
       "      <td>676</td>\n",
       "      <td>729</td>\n",
       "      <td>247</td>\n",
       "      <td>6672</td>\n",
       "    </tr>\n",
       "    <tr>\n",
       "      <th>4</th>\n",
       "      <td>21_s1m1</td>\n",
       "      <td>4</td>\n",
       "      <td>4</td>\n",
       "      <td>0.037</td>\n",
       "      <td>0.658</td>\n",
       "      <td>1.233</td>\n",
       "      <td>0.811</td>\n",
       "      <td>0.787</td>\n",
       "      <td>462.293</td>\n",
       "      <td>1785.806</td>\n",
       "      <td>...</td>\n",
       "      <td>435</td>\n",
       "      <td>2516</td>\n",
       "      <td>1796</td>\n",
       "      <td>1804</td>\n",
       "      <td>1312</td>\n",
       "      <td>432</td>\n",
       "      <td>618</td>\n",
       "      <td>745</td>\n",
       "      <td>275</td>\n",
       "      <td>2477</td>\n",
       "    </tr>\n",
       "  </tbody>\n",
       "</table>\n",
       "<p>5 rows × 65 columns</p>\n",
       "</div>"
      ],
      "text/plain": [
       "    image   ind cell index  total cell index   Area  Circ.     AR  Round  \\\n",
       "0  21_s1m1               0                 0  0.047  0.458  1.551  0.645   \n",
       "1  21_s1m1               1                 1  0.032  0.868  1.462  0.684   \n",
       "2  21_s1m1               2                 2  0.037  0.871  1.156  0.865   \n",
       "3  21_s1m1               3                 3  0.044  0.709  1.674  0.597   \n",
       "4  21_s1m1               4                 4  0.037  0.658  1.233  0.811   \n",
       "\n",
       "   Solidity  Pax6_mean  Islet1_mean      ...       SCGN_median  Kv2.2_median  \\\n",
       "0     0.795   1093.606     1237.738      ...               545          2559   \n",
       "1     0.916    389.737     1787.737      ...               505          2325   \n",
       "2     0.912    436.575     1095.472      ...              1934          2564   \n",
       "3     0.879    576.280     1651.413      ...               348          2414   \n",
       "4     0.787    462.293     1785.806      ...               435          2516   \n",
       "\n",
       "   DAPI3_median  CAVIII_median  Rec_median  DAPI4_median  Calb_median  \\\n",
       "0           432           2216       14732           363         1005   \n",
       "1          1421           2063        3089           566          625   \n",
       "2          2181           2039        2349           578          618   \n",
       "3          3377           1760        1433           799          676   \n",
       "4          1796           1804        1312           432          618   \n",
       "\n",
       "   PKC_median  Parv_median  DAPI5_median  \n",
       "0         911          554           383  \n",
       "1         901          485          2563  \n",
       "2         664          304          3695  \n",
       "3         729          247          6672  \n",
       "4         745          275          2477  \n",
       "\n",
       "[5 rows x 65 columns]"
      ]
     },
     "execution_count": 26,
     "metadata": {},
     "output_type": "execute_result"
    }
   ],
   "source": [
    "roi_df = pd.read_csv(\"C:/Users/mclaughlin.aj/Documents/AM_ANALYSIS/CellProfiler_190212/BM_AM_180808_190312_Results.csv\")\n",
    "roi_df.head(5)"
   ]
  },
  {
   "cell_type": "code",
   "execution_count": 29,
   "metadata": {},
   "outputs": [],
   "source": [
    "#gets rid of all cells which don't have 0 values (off target ROIS)\n",
    "#DAPI_mean won't have any, as ROIs are generated from this file. But all other imaging rounds will.\n",
    "roi_df = roi_df[roi_df['CD15_mean'] > 0]\n",
    "roi_df = roi_df[roi_df['GLT-1_mean'] > 0]\n",
    "roi_df = roi_df[roi_df['Cav3.1_mean'] > 0]\n",
    "roi_df = roi_df[roi_df['CABP5_mean'] > 0]\n",
    "roi_df = roi_df[roi_df['SSCGN_mean'] > 0]\n",
    "roi_df = roi_df[roi_df['Kv2.2_mean'] > 0]\n",
    "roi_df = roi_df[roi_df['CAVIII_mean'] > 0]\n",
    "roi_df = roi_df[roi_df['Rec_mean'] > 0]\n",
    "roi_df = roi_df[roi_df['Calb_mean'] > 0]\n",
    "roi_df = roi_df[roi_df['PKC_mean'] > 0]\n",
    "roi_df = roi_df[roi_df['Parv_mean'] > 0]\n",
    "roi_df = roi_df[roi_df['DAPI5_mean'] > 0]"
   ]
  },
  {
   "cell_type": "code",
   "execution_count": 30,
   "metadata": {},
   "outputs": [],
   "source": [
    "#function to determine threshold for 99% normalization\n",
    "def determineThresholds(col, table, cutoff=0.01): #change bins?\n",
    "    '''Determines the thresholds for the column of the table with the given cutoff.\n",
    "    Returns the left x and right x that at the cutoff value. For example, with a cutoff of\n",
    "    0.01, this fn will return the left x and right x that keeps 1% of the mass on the left\n",
    "    and 1% of the mass on the right, respectively.'''\n",
    "    assert(cutoff > 0 and cutoff < 1)\n",
    "    nparr = np.asarray(table[col].tolist())\n",
    "    y,x,_=hist(nparr,1000,alpha=.3,label='data')\n",
    "    x=(x[1:]+x[:-1])/2\n",
    "    sum = 0\n",
    "    for ycord in y:\n",
    "        sum += ycord\n",
    "    left = sum * cutoff\n",
    "    right = sum * (1 - cutoff)\n",
    "    sum = 0\n",
    "    leftx = 0\n",
    "    rightx = 0\n",
    "    for xcord, ycord in zip(x,y):\n",
    "        sum += ycord\n",
    "        if (left < sum and leftx == 0):\n",
    "            leftx = xcord\n",
    "        if (right < sum and rightx == 0):\n",
    "            rightx = xcord\n",
    "            break\n",
    "    return leftx, rightx"
   ]
  },
  {
   "cell_type": "code",
   "execution_count": 31,
   "metadata": {
    "collapsed": true
   },
   "outputs": [
    {
     "data": {
      "text/plain": [
       "(181.706032, 8363.116336)"
      ]
     },
     "execution_count": 31,
     "metadata": {},
     "output_type": "execute_result"
    },
    {
     "data": {
      "image/png": "[encoded data removed]",
      "text/plain": [
       "<Figure size 432x288 with 1 Axes>"
      ]
     },
     "metadata": {
      "needs_background": "light"
     },
     "output_type": "display_data"
    }
   ],
   "source": [
    "#example threshold calculation for DAPI channel\n",
    "determineThresholds(\"DAPI_mean\", roi_df)"
   ]
  },
  {
   "cell_type": "code",
   "execution_count": 32,
   "metadata": {},
   "outputs": [],
   "source": [
    "#calculates thresholds for all columns, set events above and below thresholds to 1 and 0 respectively\n",
    "\n",
    "def normalize(col, table, cutoff=0.01):\n",
    "    '''Determines thresholds using the determineThresholds fn. For all numbers\n",
    "    greater than 1, they are made 1. For all numbers less than 0, they are made 0.\n",
    "    A new col named normalized + colname is created in the table.'''\n",
    "    leftx, rightx = determineThresholds(col, table, cutoff=0.01)\n",
    "    def new(signal):\n",
    "        normsignal = (signal - leftx) / (rightx - leftx)\n",
    "        if (normsignal > 1):\n",
    "            return 1\n",
    "        elif (normsignal < 0):\n",
    "            return 0\n",
    "        else:\n",
    "            return normsignal\n",
    "    return table[col].apply(new)"
   ]
  },
  {
   "cell_type": "code",
   "execution_count": 33,
   "metadata": {
    "collapsed": true
   },
   "outputs": [
    {
     "data": {
      "text/plain": [
       "array([[<matplotlib.axes._subplots.AxesSubplot object at 0x0000020119750C50>]],\n",
       "      dtype=object)"
      ]
     },
     "execution_count": 33,
     "metadata": {},
     "output_type": "execute_result"
    },
    {
     "data": {
      "image/png": "[encoded data removed]",
      "text/plain": [
       "<Figure size 432x288 with 1 Axes>"
      ]
     },
     "metadata": {
      "needs_background": "light"
     },
     "output_type": "display_data"
    },
    {
     "data": {
      "image/png": "[encoded data removed]",
      "text/plain": [
       "<Figure size 432x288 with 1 Axes>"
      ]
     },
     "metadata": {
      "needs_background": "light"
     },
     "output_type": "display_data"
    }
   ],
   "source": [
    "#Look at DAPI histogram, establish cutoff to remove DAPI-negative ROIs\n",
    "roi_df[\"normalized DAPI\"] = normalize(\"DAPI_mean\", roi_df)\n",
    "roi_df.hist(column=\"normalized DAPI\", bins=1000)"
   ]
  },
  {
   "cell_type": "code",
   "execution_count": 34,
   "metadata": {
    "collapsed": true
   },
   "outputs": [
    {
     "data": {
      "text/plain": [
       "array([[<matplotlib.axes._subplots.AxesSubplot object at 0x000002016D1BF550>]],\n",
       "      dtype=object)"
      ]
     },
     "execution_count": 34,
     "metadata": {},
     "output_type": "execute_result"
    },
    {
     "data": {
      "image/png": "[encoded data removed]",
      "text/plain": [
       "<Figure size 432x288 with 1 Axes>"
      ]
     },
     "metadata": {
      "needs_background": "light"
     },
     "output_type": "display_data"
    }
   ],
   "source": [
    "dapi_rm_roi_df = roi_df[roi_df['normalized DAPI'] > 0.2]\n",
    "dapi_rm_roi_df.hist(column=\"normalized DAPI\", bins=1000)"
   ]
  },
  {
   "cell_type": "code",
   "execution_count": 56,
   "metadata": {},
   "outputs": [
    {
     "name": "stdout",
     "output_type": "stream",
     "text": [
      "Passed  image \n",
      "Passed  ind cell index\n",
      "Passed  total cell index\n",
      "Normalizing   Area\n",
      "Normalizing   Circ.\n",
      "Normalizing   AR\n",
      "Normalizing   Round\n",
      "Normalizing   Solidity\n",
      "Normalizing   Pax6_mean\n",
      "Normalizing   Islet1_mean\n",
      "Normalizing   TARPg3_mean\n",
      "Normalizing   DAPI_mean\n",
      "Normalizing   CD15_mean\n",
      "Normalizing   GLT-1_mean\n",
      "Normalizing   Cav3.1_mean\n",
      "Normalizing   DAPI2_mean\n",
      "Normalizing   CABP5_mean\n",
      "Normalizing   SSCGN_mean\n",
      "Normalizing   Kv2.2_mean\n",
      "Normalizing   DAPI3_mean\n",
      "Normalizing   CAVIII_mean\n",
      "Normalizing   Rec_mean\n",
      "Normalizing   DAPI4_mean\n",
      "Normalizing   Calb_mean\n",
      "Normalizing   PKC_mean\n",
      "Normalizing   Parv_mean\n",
      "Normalizing   DAPI5_mean\n",
      "Normalizing   Pax6_stddev\n",
      "Normalizing   Islet1_stddev\n",
      "Normalizing   Tarpg3_stddev\n",
      "Normalizing   DAPI_stddev\n",
      "Normalizing   CD15_stddev\n",
      "Normalizing   GLT-1_stddev\n",
      "Normalizing   Cav3.1_stddev\n",
      "Normalizing   DAPI2_stddev\n",
      "Normalizing   CABP5_stddev\n",
      "Normalizing   SCGN_stddev\n",
      "Normalizing   Kv2.2_stddev\n",
      "Normalizing   DAPI3_stddev\n",
      "Normalizing   CAVIII_stddev\n",
      "Normalizing   Rec_stddev\n",
      "Normalizing   DAPI4_stddev\n",
      "Normalizing   Calb_stddev\n",
      "Normalizing   PKC_stddev\n",
      "Normalizing   Parv_stddev\n",
      "Normalizing   DAPI5_stddev\n",
      "Normalizing   Pax6_median\n",
      "Normalizing   Islet1_median\n",
      "Normalizing   TARPg3_median\n",
      "Normalizing   DAPI_median\n",
      "Normalizing   CD15_median\n",
      "Normalizing   GLT-1_median\n",
      "Normalizing   Cav3.1_median\n",
      "Normalizing   DAPI2_median\n",
      "Normalizing   CABP5_median\n",
      "Normalizing   SCGN_median\n",
      "Normalizing   Kv2.2_median\n",
      "Normalizing   DAPI3_median\n",
      "Normalizing   CAVIII_median\n",
      "Normalizing   Rec_median\n",
      "Normalizing   DAPI4_median\n",
      "Normalizing   Calb_median\n",
      "Normalizing   PKC_median\n",
      "Normalizing   Parv_median\n",
      "Normalizing   DAPI5_median\n",
      "Passed  normalized DAPI\n"
     ]
    },
    {
     "data": {
      "image/png": "[encoded data removed]",
      "text/plain": [
       "<Figure size 432x288 with 1 Axes>"
      ]
     },
     "metadata": {
      "needs_background": "light"
     },
     "output_type": "display_data"
    }
   ],
   "source": [
    "#runs 99% normalization on all channels, saves data in new columns of the same dataframe\n",
    "rm_roi_df = dapi_rm_roi_df.copy()\n",
    "for col in list(dapi_rm_roi_df):\n",
    "    if col.startswith(\"normalized\") or col.startswith(\"image\") or col.startswith(\"ind cell index\") or col.startswith(\"total\") or (dapi_rm_roi_df[col]).isna().any():\n",
    "        print(\"Passed \", col)\n",
    "        continue\n",
    "    print(\"Normalizing  \", col)\n",
    "    rm_roi_df[\"normalized \" + col] = normalize(col, dapi_rm_roi_df)"
   ]
  },
  {
   "cell_type": "code",
   "execution_count": 57,
   "metadata": {},
   "outputs": [
    {
     "data": {
      "text/plain": [
       "array([[<matplotlib.axes._subplots.AxesSubplot object at 0x000002015BB00198>]],\n",
       "      dtype=object)"
      ]
     },
     "execution_count": 57,
     "metadata": {},
     "output_type": "execute_result"
    },
    {
     "data": {
      "image/png": "[encoded data removed]",
      "text/plain": [
       "<Figure size 432x288 with 1 Axes>"
      ]
     },
     "metadata": {
      "needs_background": "light"
     },
     "output_type": "display_data"
    },
    {
     "data": {
      "image/png": "[encoded data removed]",
      "text/plain": [
       "<Figure size 432x288 with 1 Axes>"
      ]
     },
     "metadata": {
      "needs_background": "light"
     },
     "output_type": "display_data"
    },
    {
     "data": {
      "image/png": "[encoded data removed]",
      "text/plain": [
       "<Figure size 432x288 with 1 Axes>"
      ]
     },
     "metadata": {
      "needs_background": "light"
     },
     "output_type": "display_data"
    },
    {
     "data": {
      "image/png": "[encoded data removed]",
      "text/plain": [
       "<Figure size 432x288 with 1 Axes>"
      ]
     },
     "metadata": {
      "needs_background": "light"
     },
     "output_type": "display_data"
    },
    {
     "data": {
      "image/png": "[encoded data removed]",
      "text/plain": [
       "<Figure size 432x288 with 1 Axes>"
      ]
     },
     "metadata": {
      "needs_background": "light"
     },
     "output_type": "display_data"
    },
    {
     "data": {
      "image/png": "[encoded data removed]",
      "text/plain": [
       "<Figure size 432x288 with 1 Axes>"
      ]
     },
     "metadata": {
      "needs_background": "light"
     },
     "output_type": "display_data"
    },
    {
     "data": {
      "image/png": "[encoded data removed]",
      "text/plain": [
       "<Figure size 432x288 with 1 Axes>"
      ]
     },
     "metadata": {
      "needs_background": "light"
     },
     "output_type": "display_data"
    },
    {
     "data": {
      "image/png": "[encoded data removed]",
      "text/plain": [
       "<Figure size 432x288 with 1 Axes>"
      ]
     },
     "metadata": {
      "needs_background": "light"
     },
     "output_type": "display_data"
    },
    {
     "data": {
      "image/png": "[encoded data removed]",
      "text/plain": [
       "<Figure size 432x288 with 1 Axes>"
      ]
     },
     "metadata": {
      "needs_background": "light"
     },
     "output_type": "display_data"
    }
   ],
   "source": [
    "rm_roi_df.hist(column=\"normalized Islet1_mean\", bins=1000)\n",
    "rm_roi_df.hist(column=\"normalized Pax6_mean\", bins=1000)\n",
    "rm_roi_df.hist(column=\"normalized CD15_mean\", bins=1000)\n",
    "rm_roi_df.hist(column=\"normalized CABP5_mean\", bins=1000)\n",
    "rm_roi_df.hist(column=\"normalized SSCGN_mean\", bins=1000)\n",
    "rm_roi_df.hist(column=\"normalized CAVIII_mean\", bins=1000)\n",
    "rm_roi_df.hist(column=\"normalized Rec_mean\", bins=1000)\n",
    "rm_roi_df.hist(column=\"normalized Calb_mean\", bins=1000)\n",
    "rm_roi_df.hist(column=\"normalized Parv_mean\", bins=1000)"
   ]
  },
  {
   "cell_type": "code",
   "execution_count": 58,
   "metadata": {},
   "outputs": [
    {
     "ename": "KeyError",
     "evalue": "\"['image' 'ind cell index' 'total cell index'] not found in axis\"",
     "output_type": "error",
     "traceback": [
      "\u001b[1;31m---------------------------------------------------------------------------\u001b[0m",
      "\u001b[1;31mKeyError\u001b[0m                                  Traceback (most recent call last)",
      "\u001b[1;32m<ipython-input-58-529b2af7e5e1>\u001b[0m in \u001b[0;36m<module>\u001b[1;34m\u001b[0m\n\u001b[0;32m      6\u001b[0m \u001b[0mnew_data\u001b[0m\u001b[1;33m=\u001b[0m\u001b[0mnew_data\u001b[0m\u001b[1;33m.\u001b[0m\u001b[0mdrop\u001b[0m\u001b[1;33m(\u001b[0m\u001b[1;33m[\u001b[0m\u001b[1;34m\"normalized DAPI_stddev\"\u001b[0m\u001b[1;33m,\u001b[0m \u001b[1;34m\"normalized Tarpg3_stddev\"\u001b[0m\u001b[1;33m,\u001b[0m \u001b[1;34m\"normalized GLT-1_stddev\"\u001b[0m\u001b[1;33m,\u001b[0m \u001b[1;34m\"normalized Cav3.1_stddev\"\u001b[0m\u001b[1;33m,\u001b[0m \u001b[1;34m\"normalized DAPI2_stddev\"\u001b[0m\u001b[1;33m,\u001b[0m \u001b[1;34m\"normalized Kv2.2_stddev\"\u001b[0m\u001b[1;33m,\u001b[0m \u001b[1;34m\"normalized DAPI3_stddev\"\u001b[0m\u001b[1;33m,\u001b[0m \u001b[1;34m\"normalized DAPI4_stddev\"\u001b[0m\u001b[1;33m,\u001b[0m \u001b[1;34m\"normalized PKC_stddev\"\u001b[0m\u001b[1;33m,\u001b[0m \u001b[1;34m\"normalized DAPI5_stddev\"\u001b[0m\u001b[1;33m]\u001b[0m\u001b[1;33m,\u001b[0m \u001b[0maxis\u001b[0m\u001b[1;33m=\u001b[0m\u001b[1;36m1\u001b[0m\u001b[1;33m)\u001b[0m\u001b[1;33m\u001b[0m\u001b[1;33m\u001b[0m\u001b[0m\n\u001b[0;32m      7\u001b[0m \u001b[0mnew_data\u001b[0m\u001b[1;33m=\u001b[0m\u001b[0mnew_data\u001b[0m\u001b[1;33m.\u001b[0m\u001b[0mdrop\u001b[0m\u001b[1;33m(\u001b[0m\u001b[1;33m[\u001b[0m\u001b[1;34m\"normalized DAPI_median\"\u001b[0m\u001b[1;33m,\u001b[0m \u001b[1;34m\"normalized TARPg3_median\"\u001b[0m\u001b[1;33m,\u001b[0m \u001b[1;34m\"normalized GLT-1_median\"\u001b[0m\u001b[1;33m,\u001b[0m \u001b[1;34m\"normalized Cav3.1_median\"\u001b[0m\u001b[1;33m,\u001b[0m \u001b[1;34m\"normalized DAPI2_median\"\u001b[0m\u001b[1;33m,\u001b[0m \u001b[1;34m\"normalized Kv2.2_median\"\u001b[0m\u001b[1;33m,\u001b[0m \u001b[1;34m\"normalized DAPI3_median\"\u001b[0m\u001b[1;33m,\u001b[0m \u001b[1;34m\"normalized DAPI4_median\"\u001b[0m\u001b[1;33m,\u001b[0m \u001b[1;34m\"normalized PKC_median\"\u001b[0m\u001b[1;33m,\u001b[0m \u001b[1;34m\"normalized DAPI5_median\"\u001b[0m\u001b[1;33m]\u001b[0m\u001b[1;33m,\u001b[0m \u001b[0maxis\u001b[0m\u001b[1;33m=\u001b[0m\u001b[1;36m1\u001b[0m\u001b[1;33m)\u001b[0m\u001b[1;33m\u001b[0m\u001b[1;33m\u001b[0m\u001b[0m\n\u001b[1;32m----> 8\u001b[1;33m \u001b[0mnew_data\u001b[0m\u001b[1;33m=\u001b[0m\u001b[0mnew_data\u001b[0m\u001b[1;33m.\u001b[0m\u001b[0mdrop\u001b[0m\u001b[1;33m(\u001b[0m\u001b[1;33m[\u001b[0m\u001b[1;34m\"image\"\u001b[0m\u001b[1;33m,\u001b[0m \u001b[1;34m\"ind cell index\"\u001b[0m\u001b[1;33m,\u001b[0m \u001b[1;34m\"total cell index\"\u001b[0m\u001b[1;33m]\u001b[0m\u001b[1;33m)\u001b[0m\u001b[1;33m\u001b[0m\u001b[1;33m\u001b[0m\u001b[0m\n\u001b[0m",
      "\u001b[1;32mC:\\ProgramData\\Anaconda3\\lib\\site-packages\\pandas\\core\\frame.py\u001b[0m in \u001b[0;36mdrop\u001b[1;34m(self, labels, axis, index, columns, level, inplace, errors)\u001b[0m\n\u001b[0;32m   3695\u001b[0m                                            \u001b[0mindex\u001b[0m\u001b[1;33m=\u001b[0m\u001b[0mindex\u001b[0m\u001b[1;33m,\u001b[0m \u001b[0mcolumns\u001b[0m\u001b[1;33m=\u001b[0m\u001b[0mcolumns\u001b[0m\u001b[1;33m,\u001b[0m\u001b[1;33m\u001b[0m\u001b[1;33m\u001b[0m\u001b[0m\n\u001b[0;32m   3696\u001b[0m                                            \u001b[0mlevel\u001b[0m\u001b[1;33m=\u001b[0m\u001b[0mlevel\u001b[0m\u001b[1;33m,\u001b[0m \u001b[0minplace\u001b[0m\u001b[1;33m=\u001b[0m\u001b[0minplace\u001b[0m\u001b[1;33m,\u001b[0m\u001b[1;33m\u001b[0m\u001b[1;33m\u001b[0m\u001b[0m\n\u001b[1;32m-> 3697\u001b[1;33m                                            errors=errors)\n\u001b[0m\u001b[0;32m   3698\u001b[0m \u001b[1;33m\u001b[0m\u001b[0m\n\u001b[0;32m   3699\u001b[0m     @rewrite_axis_style_signature('mapper', [('copy', True),\n",
      "\u001b[1;32mC:\\ProgramData\\Anaconda3\\lib\\site-packages\\pandas\\core\\generic.py\u001b[0m in \u001b[0;36mdrop\u001b[1;34m(self, labels, axis, index, columns, level, inplace, errors)\u001b[0m\n\u001b[0;32m   3109\u001b[0m         \u001b[1;32mfor\u001b[0m \u001b[0maxis\u001b[0m\u001b[1;33m,\u001b[0m \u001b[0mlabels\u001b[0m \u001b[1;32min\u001b[0m \u001b[0maxes\u001b[0m\u001b[1;33m.\u001b[0m\u001b[0mitems\u001b[0m\u001b[1;33m(\u001b[0m\u001b[1;33m)\u001b[0m\u001b[1;33m:\u001b[0m\u001b[1;33m\u001b[0m\u001b[1;33m\u001b[0m\u001b[0m\n\u001b[0;32m   3110\u001b[0m             \u001b[1;32mif\u001b[0m \u001b[0mlabels\u001b[0m \u001b[1;32mis\u001b[0m \u001b[1;32mnot\u001b[0m \u001b[1;32mNone\u001b[0m\u001b[1;33m:\u001b[0m\u001b[1;33m\u001b[0m\u001b[1;33m\u001b[0m\u001b[0m\n\u001b[1;32m-> 3111\u001b[1;33m                 \u001b[0mobj\u001b[0m \u001b[1;33m=\u001b[0m \u001b[0mobj\u001b[0m\u001b[1;33m.\u001b[0m\u001b[0m_drop_axis\u001b[0m\u001b[1;33m(\u001b[0m\u001b[0mlabels\u001b[0m\u001b[1;33m,\u001b[0m \u001b[0maxis\u001b[0m\u001b[1;33m,\u001b[0m \u001b[0mlevel\u001b[0m\u001b[1;33m=\u001b[0m\u001b[0mlevel\u001b[0m\u001b[1;33m,\u001b[0m \u001b[0merrors\u001b[0m\u001b[1;33m=\u001b[0m\u001b[0merrors\u001b[0m\u001b[1;33m)\u001b[0m\u001b[1;33m\u001b[0m\u001b[1;33m\u001b[0m\u001b[0m\n\u001b[0m\u001b[0;32m   3112\u001b[0m \u001b[1;33m\u001b[0m\u001b[0m\n\u001b[0;32m   3113\u001b[0m         \u001b[1;32mif\u001b[0m \u001b[0minplace\u001b[0m\u001b[1;33m:\u001b[0m\u001b[1;33m\u001b[0m\u001b[1;33m\u001b[0m\u001b[0m\n",
      "\u001b[1;32mC:\\ProgramData\\Anaconda3\\lib\\site-packages\\pandas\\core\\generic.py\u001b[0m in \u001b[0;36m_drop_axis\u001b[1;34m(self, labels, axis, level, errors)\u001b[0m\n\u001b[0;32m   3141\u001b[0m                 \u001b[0mnew_axis\u001b[0m \u001b[1;33m=\u001b[0m \u001b[0maxis\u001b[0m\u001b[1;33m.\u001b[0m\u001b[0mdrop\u001b[0m\u001b[1;33m(\u001b[0m\u001b[0mlabels\u001b[0m\u001b[1;33m,\u001b[0m \u001b[0mlevel\u001b[0m\u001b[1;33m=\u001b[0m\u001b[0mlevel\u001b[0m\u001b[1;33m,\u001b[0m \u001b[0merrors\u001b[0m\u001b[1;33m=\u001b[0m\u001b[0merrors\u001b[0m\u001b[1;33m)\u001b[0m\u001b[1;33m\u001b[0m\u001b[1;33m\u001b[0m\u001b[0m\n\u001b[0;32m   3142\u001b[0m             \u001b[1;32melse\u001b[0m\u001b[1;33m:\u001b[0m\u001b[1;33m\u001b[0m\u001b[1;33m\u001b[0m\u001b[0m\n\u001b[1;32m-> 3143\u001b[1;33m                 \u001b[0mnew_axis\u001b[0m \u001b[1;33m=\u001b[0m \u001b[0maxis\u001b[0m\u001b[1;33m.\u001b[0m\u001b[0mdrop\u001b[0m\u001b[1;33m(\u001b[0m\u001b[0mlabels\u001b[0m\u001b[1;33m,\u001b[0m \u001b[0merrors\u001b[0m\u001b[1;33m=\u001b[0m\u001b[0merrors\u001b[0m\u001b[1;33m)\u001b[0m\u001b[1;33m\u001b[0m\u001b[1;33m\u001b[0m\u001b[0m\n\u001b[0m\u001b[0;32m   3144\u001b[0m             \u001b[0mresult\u001b[0m \u001b[1;33m=\u001b[0m \u001b[0mself\u001b[0m\u001b[1;33m.\u001b[0m\u001b[0mreindex\u001b[0m\u001b[1;33m(\u001b[0m\u001b[1;33m**\u001b[0m\u001b[1;33m{\u001b[0m\u001b[0maxis_name\u001b[0m\u001b[1;33m:\u001b[0m \u001b[0mnew_axis\u001b[0m\u001b[1;33m}\u001b[0m\u001b[1;33m)\u001b[0m\u001b[1;33m\u001b[0m\u001b[1;33m\u001b[0m\u001b[0m\n\u001b[0;32m   3145\u001b[0m \u001b[1;33m\u001b[0m\u001b[0m\n",
      "\u001b[1;32mC:\\ProgramData\\Anaconda3\\lib\\site-packages\\pandas\\core\\indexes\\base.py\u001b[0m in \u001b[0;36mdrop\u001b[1;34m(self, labels, errors)\u001b[0m\n\u001b[0;32m   4402\u001b[0m             \u001b[1;32mif\u001b[0m \u001b[0merrors\u001b[0m \u001b[1;33m!=\u001b[0m \u001b[1;34m'ignore'\u001b[0m\u001b[1;33m:\u001b[0m\u001b[1;33m\u001b[0m\u001b[1;33m\u001b[0m\u001b[0m\n\u001b[0;32m   4403\u001b[0m                 raise KeyError(\n\u001b[1;32m-> 4404\u001b[1;33m                     '{} not found in axis'.format(labels[mask]))\n\u001b[0m\u001b[0;32m   4405\u001b[0m             \u001b[0mindexer\u001b[0m \u001b[1;33m=\u001b[0m \u001b[0mindexer\u001b[0m\u001b[1;33m[\u001b[0m\u001b[1;33m~\u001b[0m\u001b[0mmask\u001b[0m\u001b[1;33m]\u001b[0m\u001b[1;33m\u001b[0m\u001b[1;33m\u001b[0m\u001b[0m\n\u001b[0;32m   4406\u001b[0m         \u001b[1;32mreturn\u001b[0m \u001b[0mself\u001b[0m\u001b[1;33m.\u001b[0m\u001b[0mdelete\u001b[0m\u001b[1;33m(\u001b[0m\u001b[0mindexer\u001b[0m\u001b[1;33m)\u001b[0m\u001b[1;33m\u001b[0m\u001b[1;33m\u001b[0m\u001b[0m\n",
      "\u001b[1;31mKeyError\u001b[0m: \"['image' 'ind cell index' 'total cell index'] not found in axis\""
     ]
    }
   ],
   "source": [
    "#STARTING CLUSTERING ON NORMALIZED DATA\n",
    "\n",
    "#drop columns we don't want to normalize\n",
    "new_data=rm_roi_df\n",
    "new_data=new_data.drop([\"normalized DAPI_mean\", \"normalized TARPg3_mean\", \"normalized GLT-1_mean\", \"normalized Cav3.1_mean\", \"normalized DAPI2_mean\", \"normalized Kv2.2_mean\", \"normalized DAPI3_mean\", \"normalized DAPI4_mean\", \"normalized PKC_mean\", \"normalized DAPI5_mean\"], axis=1)\n",
    "new_data=new_data.drop([\"normalized DAPI_stddev\", \"normalized Tarpg3_stddev\", \"normalized GLT-1_stddev\", \"normalized Cav3.1_stddev\", \"normalized DAPI2_stddev\", \"normalized Kv2.2_stddev\", \"normalized DAPI3_stddev\", \"normalized DAPI4_stddev\", \"normalized PKC_stddev\", \"normalized DAPI5_stddev\"], axis=1)\n",
    "new_data=new_data.drop([\"normalized DAPI_median\", \"normalized TARPg3_median\", \"normalized GLT-1_median\", \"normalized Cav3.1_median\", \"normalized DAPI2_median\", \"normalized Kv2.2_median\", \"normalized DAPI3_median\", \"normalized DAPI4_median\", \"normalized PKC_median\", \"normalized DAPI5_median\"], axis=1)\n",
    "new_data=new_data.drop([\"image \", \"ind cell index\", \"total cell index\"], axis=1)\n"
   ]
  },
  {
   "cell_type": "code",
   "execution_count": 75,
   "metadata": {
    "collapsed": true
   },
   "outputs": [
    {
     "data": {
      "text/html": [
       "<div>\n",
       "<style scoped>\n",
       "    .dataframe tbody tr th:only-of-type {\n",
       "        vertical-align: middle;\n",
       "    }\n",
       "\n",
       "    .dataframe tbody tr th {\n",
       "        vertical-align: top;\n",
       "    }\n",
       "\n",
       "    .dataframe thead th {\n",
       "        text-align: right;\n",
       "    }\n",
       "</style>\n",
       "<table border=\"1\" class=\"dataframe\">\n",
       "  <thead>\n",
       "    <tr style=\"text-align: right;\">\n",
       "      <th></th>\n",
       "      <th>Area</th>\n",
       "      <th>Circ.</th>\n",
       "      <th>AR</th>\n",
       "      <th>Round</th>\n",
       "      <th>Solidity</th>\n",
       "      <th>Pax6_mean</th>\n",
       "      <th>Islet1_mean</th>\n",
       "      <th>TARPg3_mean</th>\n",
       "      <th>DAPI_mean</th>\n",
       "      <th>CD15_mean</th>\n",
       "      <th>...</th>\n",
       "      <th>normalized Parv_stddev</th>\n",
       "      <th>normalized Pax6_median</th>\n",
       "      <th>normalized Islet1_median</th>\n",
       "      <th>normalized CD15_median</th>\n",
       "      <th>normalized CABP5_median</th>\n",
       "      <th>normalized SCGN_median</th>\n",
       "      <th>normalized CAVIII_median</th>\n",
       "      <th>normalized Rec_median</th>\n",
       "      <th>normalized Calb_median</th>\n",
       "      <th>normalized Parv_median</th>\n",
       "    </tr>\n",
       "  </thead>\n",
       "  <tbody>\n",
       "    <tr>\n",
       "      <th>2</th>\n",
       "      <td>0.037</td>\n",
       "      <td>0.871</td>\n",
       "      <td>1.156</td>\n",
       "      <td>0.865</td>\n",
       "      <td>0.912</td>\n",
       "      <td>436.575</td>\n",
       "      <td>1095.472</td>\n",
       "      <td>389.079</td>\n",
       "      <td>2618.874</td>\n",
       "      <td>1015.686</td>\n",
       "      <td>...</td>\n",
       "      <td>0.042131</td>\n",
       "      <td>0.031632</td>\n",
       "      <td>0.000000</td>\n",
       "      <td>0.0</td>\n",
       "      <td>0.092806</td>\n",
       "      <td>0.360728</td>\n",
       "      <td>0.208101</td>\n",
       "      <td>0.316598</td>\n",
       "      <td>0.000000</td>\n",
       "      <td>0.006345</td>\n",
       "    </tr>\n",
       "    <tr>\n",
       "      <th>3</th>\n",
       "      <td>0.044</td>\n",
       "      <td>0.709</td>\n",
       "      <td>1.674</td>\n",
       "      <td>0.597</td>\n",
       "      <td>0.879</td>\n",
       "      <td>576.280</td>\n",
       "      <td>1651.413</td>\n",
       "      <td>1214.141</td>\n",
       "      <td>4676.282</td>\n",
       "      <td>1163.371</td>\n",
       "      <td>...</td>\n",
       "      <td>0.000030</td>\n",
       "      <td>0.107472</td>\n",
       "      <td>0.049209</td>\n",
       "      <td>0.0</td>\n",
       "      <td>0.150430</td>\n",
       "      <td>0.007804</td>\n",
       "      <td>0.144093</td>\n",
       "      <td>0.121920</td>\n",
       "      <td>0.015068</td>\n",
       "      <td>0.000000</td>\n",
       "    </tr>\n",
       "    <tr>\n",
       "      <th>5</th>\n",
       "      <td>0.043</td>\n",
       "      <td>0.760</td>\n",
       "      <td>1.409</td>\n",
       "      <td>0.710</td>\n",
       "      <td>0.879</td>\n",
       "      <td>499.093</td>\n",
       "      <td>1740.056</td>\n",
       "      <td>494.927</td>\n",
       "      <td>4219.715</td>\n",
       "      <td>1118.275</td>\n",
       "      <td>...</td>\n",
       "      <td>0.001740</td>\n",
       "      <td>0.061862</td>\n",
       "      <td>0.056456</td>\n",
       "      <td>0.0</td>\n",
       "      <td>0.197786</td>\n",
       "      <td>0.039848</td>\n",
       "      <td>0.237238</td>\n",
       "      <td>0.572483</td>\n",
       "      <td>0.011527</td>\n",
       "      <td>0.000414</td>\n",
       "    </tr>\n",
       "    <tr>\n",
       "      <th>6</th>\n",
       "      <td>0.062</td>\n",
       "      <td>0.788</td>\n",
       "      <td>1.425</td>\n",
       "      <td>0.702</td>\n",
       "      <td>0.897</td>\n",
       "      <td>604.570</td>\n",
       "      <td>1057.447</td>\n",
       "      <td>425.308</td>\n",
       "      <td>2556.052</td>\n",
       "      <td>1098.612</td>\n",
       "      <td>...</td>\n",
       "      <td>0.041645</td>\n",
       "      <td>0.128156</td>\n",
       "      <td>0.000000</td>\n",
       "      <td>0.0</td>\n",
       "      <td>0.087358</td>\n",
       "      <td>0.018040</td>\n",
       "      <td>0.202136</td>\n",
       "      <td>0.344651</td>\n",
       "      <td>0.002673</td>\n",
       "      <td>0.012639</td>\n",
       "    </tr>\n",
       "    <tr>\n",
       "      <th>7</th>\n",
       "      <td>0.038</td>\n",
       "      <td>0.826</td>\n",
       "      <td>1.463</td>\n",
       "      <td>0.683</td>\n",
       "      <td>0.898</td>\n",
       "      <td>412.611</td>\n",
       "      <td>2886.318</td>\n",
       "      <td>505.952</td>\n",
       "      <td>3348.741</td>\n",
       "      <td>1040.455</td>\n",
       "      <td>...</td>\n",
       "      <td>0.107518</td>\n",
       "      <td>0.025268</td>\n",
       "      <td>0.198978</td>\n",
       "      <td>0.0</td>\n",
       "      <td>0.191291</td>\n",
       "      <td>0.015147</td>\n",
       "      <td>0.212919</td>\n",
       "      <td>0.707652</td>\n",
       "      <td>0.017193</td>\n",
       "      <td>0.005619</td>\n",
       "    </tr>\n",
       "  </tbody>\n",
       "</table>\n",
       "<p>5 rows × 95 columns</p>\n",
       "</div>"
      ],
      "text/plain": [
       "    Area  Circ.     AR  Round  Solidity  Pax6_mean  Islet1_mean  TARPg3_mean  \\\n",
       "2  0.037  0.871  1.156  0.865     0.912    436.575     1095.472      389.079   \n",
       "3  0.044  0.709  1.674  0.597     0.879    576.280     1651.413     1214.141   \n",
       "5  0.043  0.760  1.409  0.710     0.879    499.093     1740.056      494.927   \n",
       "6  0.062  0.788  1.425  0.702     0.897    604.570     1057.447      425.308   \n",
       "7  0.038  0.826  1.463  0.683     0.898    412.611     2886.318      505.952   \n",
       "\n",
       "   DAPI_mean  CD15_mean           ...            normalized Parv_stddev  \\\n",
       "2   2618.874   1015.686           ...                          0.042131   \n",
       "3   4676.282   1163.371           ...                          0.000030   \n",
       "5   4219.715   1118.275           ...                          0.001740   \n",
       "6   2556.052   1098.612           ...                          0.041645   \n",
       "7   3348.741   1040.455           ...                          0.107518   \n",
       "\n",
       "   normalized Pax6_median  normalized Islet1_median  normalized CD15_median  \\\n",
       "2                0.031632                  0.000000                     0.0   \n",
       "3                0.107472                  0.049209                     0.0   \n",
       "5                0.061862                  0.056456                     0.0   \n",
       "6                0.128156                  0.000000                     0.0   \n",
       "7                0.025268                  0.198978                     0.0   \n",
       "\n",
       "   normalized CABP5_median  normalized SCGN_median  normalized CAVIII_median  \\\n",
       "2                 0.092806                0.360728                  0.208101   \n",
       "3                 0.150430                0.007804                  0.144093   \n",
       "5                 0.197786                0.039848                  0.237238   \n",
       "6                 0.087358                0.018040                  0.202136   \n",
       "7                 0.191291                0.015147                  0.212919   \n",
       "\n",
       "   normalized Rec_median  normalized Calb_median  normalized Parv_median  \n",
       "2               0.316598                0.000000                0.006345  \n",
       "3               0.121920                0.015068                0.000000  \n",
       "5               0.572483                0.011527                0.000414  \n",
       "6               0.344651                0.002673                0.012639  \n",
       "7               0.707652                0.017193                0.005619  \n",
       "\n",
       "[5 rows x 95 columns]"
      ]
     },
     "execution_count": 75,
     "metadata": {},
     "output_type": "execute_result"
    }
   ],
   "source": [
    "new_data[]\n",
    "new_data.head(5)"
   ]
  },
  {
   "cell_type": "code",
   "execution_count": 78,
   "metadata": {
    "collapsed": true
   },
   "outputs": [
    {
     "data": {
      "text/plain": [
       "['Area',\n",
       " 'Circ.',\n",
       " 'AR',\n",
       " 'Round',\n",
       " 'Solidity',\n",
       " 'normalized DAPI',\n",
       " 'normalized Area',\n",
       " 'normalized Circ.',\n",
       " 'normalized AR',\n",
       " 'normalized Round',\n",
       " 'normalized Solidity',\n",
       " 'normalized Pax6_mean',\n",
       " 'normalized Islet1_mean',\n",
       " 'normalized CD15_mean',\n",
       " 'normalized CABP5_mean',\n",
       " 'normalized SSCGN_mean',\n",
       " 'normalized CAVIII_mean',\n",
       " 'normalized Rec_mean',\n",
       " 'normalized Calb_mean',\n",
       " 'normalized Parv_mean',\n",
       " 'normalized Pax6_stddev',\n",
       " 'normalized Islet1_stddev',\n",
       " 'normalized CD15_stddev',\n",
       " 'normalized CABP5_stddev',\n",
       " 'normalized SCGN_stddev',\n",
       " 'normalized CAVIII_stddev',\n",
       " 'normalized Rec_stddev',\n",
       " 'normalized Calb_stddev',\n",
       " 'normalized Parv_stddev',\n",
       " 'normalized Pax6_median',\n",
       " 'normalized Islet1_median',\n",
       " 'normalized CD15_median',\n",
       " 'normalized CABP5_median',\n",
       " 'normalized SCGN_median',\n",
       " 'normalized CAVIII_median',\n",
       " 'normalized Rec_median',\n",
       " 'normalized Calb_median',\n",
       " 'normalized Parv_median']"
      ]
     },
     "execution_count": 78,
     "metadata": {},
     "output_type": "execute_result"
    }
   ],
   "source": [
    "list(new_data.columns.values)"
   ]
  },
  {
   "cell_type": "code",
   "execution_count": 77,
   "metadata": {},
   "outputs": [
    {
     "data": {
      "text/html": [
       "<div>\n",
       "<style scoped>\n",
       "    .dataframe tbody tr th:only-of-type {\n",
       "        vertical-align: middle;\n",
       "    }\n",
       "\n",
       "    .dataframe tbody tr th {\n",
       "        vertical-align: top;\n",
       "    }\n",
       "\n",
       "    .dataframe thead th {\n",
       "        text-align: right;\n",
       "    }\n",
       "</style>\n",
       "<table border=\"1\" class=\"dataframe\">\n",
       "  <thead>\n",
       "    <tr style=\"text-align: right;\">\n",
       "      <th></th>\n",
       "      <th>Area</th>\n",
       "      <th>Circ.</th>\n",
       "      <th>AR</th>\n",
       "      <th>Round</th>\n",
       "      <th>Solidity</th>\n",
       "      <th>normalized DAPI</th>\n",
       "      <th>normalized Area</th>\n",
       "      <th>normalized Circ.</th>\n",
       "      <th>normalized AR</th>\n",
       "      <th>normalized Round</th>\n",
       "      <th>...</th>\n",
       "      <th>normalized Parv_stddev</th>\n",
       "      <th>normalized Pax6_median</th>\n",
       "      <th>normalized Islet1_median</th>\n",
       "      <th>normalized CD15_median</th>\n",
       "      <th>normalized CABP5_median</th>\n",
       "      <th>normalized SCGN_median</th>\n",
       "      <th>normalized CAVIII_median</th>\n",
       "      <th>normalized Rec_median</th>\n",
       "      <th>normalized Calb_median</th>\n",
       "      <th>normalized Parv_median</th>\n",
       "    </tr>\n",
       "  </thead>\n",
       "  <tbody>\n",
       "    <tr>\n",
       "      <th>2</th>\n",
       "      <td>0.037</td>\n",
       "      <td>0.871</td>\n",
       "      <td>1.156</td>\n",
       "      <td>0.865</td>\n",
       "      <td>0.912</td>\n",
       "      <td>0.297891</td>\n",
       "      <td>0.313211</td>\n",
       "      <td>0.777898</td>\n",
       "      <td>0.073576</td>\n",
       "      <td>0.839505</td>\n",
       "      <td>...</td>\n",
       "      <td>0.042131</td>\n",
       "      <td>0.031632</td>\n",
       "      <td>0.000000</td>\n",
       "      <td>0.0</td>\n",
       "      <td>0.092806</td>\n",
       "      <td>0.360728</td>\n",
       "      <td>0.208101</td>\n",
       "      <td>0.316598</td>\n",
       "      <td>0.000000</td>\n",
       "      <td>0.006345</td>\n",
       "    </tr>\n",
       "    <tr>\n",
       "      <th>3</th>\n",
       "      <td>0.044</td>\n",
       "      <td>0.709</td>\n",
       "      <td>1.674</td>\n",
       "      <td>0.597</td>\n",
       "      <td>0.879</td>\n",
       "      <td>0.549364</td>\n",
       "      <td>0.450455</td>\n",
       "      <td>0.411561</td>\n",
       "      <td>0.420266</td>\n",
       "      <td>0.361470</td>\n",
       "      <td>...</td>\n",
       "      <td>0.000030</td>\n",
       "      <td>0.107472</td>\n",
       "      <td>0.049209</td>\n",
       "      <td>0.0</td>\n",
       "      <td>0.150430</td>\n",
       "      <td>0.007804</td>\n",
       "      <td>0.144093</td>\n",
       "      <td>0.121920</td>\n",
       "      <td>0.015068</td>\n",
       "      <td>0.000000</td>\n",
       "    </tr>\n",
       "    <tr>\n",
       "      <th>5</th>\n",
       "      <td>0.043</td>\n",
       "      <td>0.760</td>\n",
       "      <td>1.409</td>\n",
       "      <td>0.710</td>\n",
       "      <td>0.879</td>\n",
       "      <td>0.493559</td>\n",
       "      <td>0.430849</td>\n",
       "      <td>0.526890</td>\n",
       "      <td>0.242906</td>\n",
       "      <td>0.563029</td>\n",
       "      <td>...</td>\n",
       "      <td>0.001740</td>\n",
       "      <td>0.061862</td>\n",
       "      <td>0.056456</td>\n",
       "      <td>0.0</td>\n",
       "      <td>0.197786</td>\n",
       "      <td>0.039848</td>\n",
       "      <td>0.237238</td>\n",
       "      <td>0.572483</td>\n",
       "      <td>0.011527</td>\n",
       "      <td>0.000414</td>\n",
       "    </tr>\n",
       "    <tr>\n",
       "      <th>6</th>\n",
       "      <td>0.062</td>\n",
       "      <td>0.788</td>\n",
       "      <td>1.425</td>\n",
       "      <td>0.702</td>\n",
       "      <td>0.897</td>\n",
       "      <td>0.290212</td>\n",
       "      <td>0.803368</td>\n",
       "      <td>0.590207</td>\n",
       "      <td>0.253614</td>\n",
       "      <td>0.548760</td>\n",
       "      <td>...</td>\n",
       "      <td>0.041645</td>\n",
       "      <td>0.128156</td>\n",
       "      <td>0.000000</td>\n",
       "      <td>0.0</td>\n",
       "      <td>0.087358</td>\n",
       "      <td>0.018040</td>\n",
       "      <td>0.202136</td>\n",
       "      <td>0.344651</td>\n",
       "      <td>0.002673</td>\n",
       "      <td>0.012639</td>\n",
       "    </tr>\n",
       "    <tr>\n",
       "      <th>7</th>\n",
       "      <td>0.038</td>\n",
       "      <td>0.826</td>\n",
       "      <td>1.463</td>\n",
       "      <td>0.683</td>\n",
       "      <td>0.898</td>\n",
       "      <td>0.387101</td>\n",
       "      <td>0.332817</td>\n",
       "      <td>0.676138</td>\n",
       "      <td>0.279047</td>\n",
       "      <td>0.514869</td>\n",
       "      <td>...</td>\n",
       "      <td>0.107518</td>\n",
       "      <td>0.025268</td>\n",
       "      <td>0.198978</td>\n",
       "      <td>0.0</td>\n",
       "      <td>0.191291</td>\n",
       "      <td>0.015147</td>\n",
       "      <td>0.212919</td>\n",
       "      <td>0.707652</td>\n",
       "      <td>0.017193</td>\n",
       "      <td>0.005619</td>\n",
       "    </tr>\n",
       "  </tbody>\n",
       "</table>\n",
       "<p>5 rows × 38 columns</p>\n",
       "</div>"
      ],
      "text/plain": [
       "    Area  Circ.     AR  Round  Solidity  normalized DAPI  normalized Area  \\\n",
       "2  0.037  0.871  1.156  0.865     0.912         0.297891         0.313211   \n",
       "3  0.044  0.709  1.674  0.597     0.879         0.549364         0.450455   \n",
       "5  0.043  0.760  1.409  0.710     0.879         0.493559         0.430849   \n",
       "6  0.062  0.788  1.425  0.702     0.897         0.290212         0.803368   \n",
       "7  0.038  0.826  1.463  0.683     0.898         0.387101         0.332817   \n",
       "\n",
       "   normalized Circ.  normalized AR  normalized Round           ...            \\\n",
       "2          0.777898       0.073576          0.839505           ...             \n",
       "3          0.411561       0.420266          0.361470           ...             \n",
       "5          0.526890       0.242906          0.563029           ...             \n",
       "6          0.590207       0.253614          0.548760           ...             \n",
       "7          0.676138       0.279047          0.514869           ...             \n",
       "\n",
       "   normalized Parv_stddev  normalized Pax6_median  normalized Islet1_median  \\\n",
       "2                0.042131                0.031632                  0.000000   \n",
       "3                0.000030                0.107472                  0.049209   \n",
       "5                0.001740                0.061862                  0.056456   \n",
       "6                0.041645                0.128156                  0.000000   \n",
       "7                0.107518                0.025268                  0.198978   \n",
       "\n",
       "   normalized CD15_median  normalized CABP5_median  normalized SCGN_median  \\\n",
       "2                     0.0                 0.092806                0.360728   \n",
       "3                     0.0                 0.150430                0.007804   \n",
       "5                     0.0                 0.197786                0.039848   \n",
       "6                     0.0                 0.087358                0.018040   \n",
       "7                     0.0                 0.191291                0.015147   \n",
       "\n",
       "   normalized CAVIII_median  normalized Rec_median  normalized Calb_median  \\\n",
       "2                  0.208101               0.316598                0.000000   \n",
       "3                  0.144093               0.121920                0.015068   \n",
       "5                  0.237238               0.572483                0.011527   \n",
       "6                  0.202136               0.344651                0.002673   \n",
       "7                  0.212919               0.707652                0.017193   \n",
       "\n",
       "   normalized Parv_median  \n",
       "2                0.006345  \n",
       "3                0.000000  \n",
       "5                0.000414  \n",
       "6                0.012639  \n",
       "7                0.005619  \n",
       "\n",
       "[5 rows x 38 columns]"
      ]
     },
     "execution_count": 77,
     "metadata": {},
     "output_type": "execute_result"
    }
   ],
   "source": [
    "#new_data=new_data.drop(['Pax6_mean', 'Islet1_mean', 'TARPg3_mean', 'DAPI_mean', 'CD15_mean','GLT-1_mean', 'Cav3.1_mean', 'DAPI2_mean', 'CABP5_mean', 'SSCGN_mean', 'Kv2.2_mean', 'DAPI3_mean', 'CAVIII_mean', 'Rec_mean', 'DAPI4_mean', 'Calb_mean', 'PKC_mean', 'Parv_mean', 'DAPI5_mean', 'Pax6_stddev', 'Islet1_stddev', 'Tarpg3_stddev', 'DAPI_stddev', 'CD15_stddev', 'GLT-1_stddev', 'Cav3.1_stddev', 'DAPI2_stddev', 'CABP5_stddev', 'SCGN_stddev', 'Kv2.2_stddev', 'DAPI3_stddev', 'CAVIII_stddev', 'Rec_stddev', 'DAPI4_stddev', 'Calb_stddev', 'PKC_stddev', 'Parv_stddev', 'DAPI5_stddev', 'Pax6_median', 'Islet1_median', 'TARPg3_median', 'DAPI_median', 'CD15_median', 'GLT-1_median', 'Cav3.1_median', 'DAPI2_median', 'CABP5_median', 'SCGN_median', 'Kv2.2_median', 'DAPI3_median', 'CAVIII_median', 'Rec_median', 'DAPI4_median', 'Calb_median', 'PKC_median', 'Parv_median', 'DAPI5_median',], axis=1)\n",
    "new_data.head(5)"
   ]
  },
  {
   "cell_type": "code",
   "execution_count": 79,
   "metadata": {},
   "outputs": [],
   "source": [
    "#performing Zscore normalization for PCA Analysis\n",
    "from sklearn.preprocessing import StandardScaler\n",
    "\n",
    "features=['Area', 'Circ.', 'AR', 'Round', 'Solidity', 'normalized DAPI', 'normalized Area', 'normalized Circ.', 'normalized AR', 'normalized Round', 'normalized Solidity', 'normalized Pax6_mean', 'normalized Islet1_mean', 'normalized CD15_mean', 'normalized CABP5_mean', 'normalized SSCGN_mean', 'normalized CAVIII_mean', 'normalized Rec_mean', 'normalized Calb_mean', 'normalized Parv_mean', 'normalized Pax6_stddev', 'normalized Islet1_stddev', 'normalized CD15_stddev', 'normalized CABP5_stddev', 'normalized SCGN_stddev', 'normalized CAVIII_stddev', 'normalized Rec_stddev', 'normalized Calb_stddev', 'normalized Parv_stddev', 'normalized Pax6_median', 'normalized Islet1_median', 'normalized CD15_median', 'normalized CABP5_median', 'normalized SCGN_median', 'normalized CAVIII_median', 'normalized Rec_median', 'normalized Calb_median','normalized Parv_median']\n",
    "x=new_data.loc[:, features].values\n",
    "x=StandardScaler().fit_transform(x)"
   ]
  },
  {
   "cell_type": "code",
   "execution_count": 83,
   "metadata": {},
   "outputs": [
    {
     "data": {
      "text/html": [
       "<div>\n",
       "<style scoped>\n",
       "    .dataframe tbody tr th:only-of-type {\n",
       "        vertical-align: middle;\n",
       "    }\n",
       "\n",
       "    .dataframe tbody tr th {\n",
       "        vertical-align: top;\n",
       "    }\n",
       "\n",
       "    .dataframe thead th {\n",
       "        text-align: right;\n",
       "    }\n",
       "</style>\n",
       "<table border=\"1\" class=\"dataframe\">\n",
       "  <thead>\n",
       "    <tr style=\"text-align: right;\">\n",
       "      <th></th>\n",
       "      <th>0</th>\n",
       "      <th>1</th>\n",
       "      <th>2</th>\n",
       "      <th>3</th>\n",
       "      <th>4</th>\n",
       "      <th>5</th>\n",
       "      <th>6</th>\n",
       "      <th>7</th>\n",
       "      <th>8</th>\n",
       "      <th>9</th>\n",
       "      <th>...</th>\n",
       "      <th>28</th>\n",
       "      <th>29</th>\n",
       "      <th>30</th>\n",
       "      <th>31</th>\n",
       "      <th>32</th>\n",
       "      <th>33</th>\n",
       "      <th>34</th>\n",
       "      <th>35</th>\n",
       "      <th>36</th>\n",
       "      <th>37</th>\n",
       "    </tr>\n",
       "  </thead>\n",
       "  <tbody>\n",
       "    <tr>\n",
       "      <th>0</th>\n",
       "      <td>-0.087796</td>\n",
       "      <td>0.833324</td>\n",
       "      <td>-1.109329</td>\n",
       "      <td>1.361711</td>\n",
       "      <td>0.500159</td>\n",
       "      <td>-1.365481</td>\n",
       "      <td>-0.082857</td>\n",
       "      <td>0.846621</td>\n",
       "      <td>-1.140228</td>\n",
       "      <td>1.372851</td>\n",
       "      <td>...</td>\n",
       "      <td>-0.334317</td>\n",
       "      <td>-1.678321</td>\n",
       "      <td>-1.429507</td>\n",
       "      <td>-1.752791</td>\n",
       "      <td>-0.899197</td>\n",
       "      <td>1.887692</td>\n",
       "      <td>-0.394758</td>\n",
       "      <td>0.468899</td>\n",
       "      <td>-1.456592</td>\n",
       "      <td>-0.541334</td>\n",
       "    </tr>\n",
       "    <tr>\n",
       "      <th>1</th>\n",
       "      <td>0.499662</td>\n",
       "      <td>-0.839031</td>\n",
       "      <td>0.498617</td>\n",
       "      <td>-0.694372</td>\n",
       "      <td>-0.262175</td>\n",
       "      <td>-0.006962</td>\n",
       "      <td>0.523066</td>\n",
       "      <td>-0.856198</td>\n",
       "      <td>0.524520</td>\n",
       "      <td>-0.702665</td>\n",
       "      <td>...</td>\n",
       "      <td>-0.564937</td>\n",
       "      <td>-1.290501</td>\n",
       "      <td>-1.216842</td>\n",
       "      <td>-1.752791</td>\n",
       "      <td>-0.605578</td>\n",
       "      <td>-0.512749</td>\n",
       "      <td>-0.715554</td>\n",
       "      <td>-0.697181</td>\n",
       "      <td>-1.365734</td>\n",
       "      <td>-0.577457</td>\n",
       "    </tr>\n",
       "    <tr>\n",
       "      <th>2</th>\n",
       "      <td>0.415739</td>\n",
       "      <td>-0.312549</td>\n",
       "      <td>-0.323981</td>\n",
       "      <td>0.172559</td>\n",
       "      <td>-0.262175</td>\n",
       "      <td>-0.308436</td>\n",
       "      <td>0.436506</td>\n",
       "      <td>-0.320125</td>\n",
       "      <td>-0.327136</td>\n",
       "      <td>0.172459</td>\n",
       "      <td>...</td>\n",
       "      <td>-0.555567</td>\n",
       "      <td>-1.523735</td>\n",
       "      <td>-1.185524</td>\n",
       "      <td>-1.752791</td>\n",
       "      <td>-0.364277</td>\n",
       "      <td>-0.294802</td>\n",
       "      <td>-0.248733</td>\n",
       "      <td>2.001607</td>\n",
       "      <td>-1.387088</td>\n",
       "      <td>-0.575101</td>\n",
       "    </tr>\n",
       "    <tr>\n",
       "      <th>3</th>\n",
       "      <td>2.010268</td>\n",
       "      <td>-0.023500</td>\n",
       "      <td>-0.274314</td>\n",
       "      <td>0.111183</td>\n",
       "      <td>0.153643</td>\n",
       "      <td>-1.406963</td>\n",
       "      <td>2.081153</td>\n",
       "      <td>-0.025811</td>\n",
       "      <td>-0.275716</td>\n",
       "      <td>0.110503</td>\n",
       "      <td>...</td>\n",
       "      <td>-0.336978</td>\n",
       "      <td>-1.184732</td>\n",
       "      <td>-1.429507</td>\n",
       "      <td>-1.752791</td>\n",
       "      <td>-0.926957</td>\n",
       "      <td>-0.443127</td>\n",
       "      <td>-0.424653</td>\n",
       "      <td>0.636937</td>\n",
       "      <td>-1.440473</td>\n",
       "      <td>-0.505500</td>\n",
       "    </tr>\n",
       "    <tr>\n",
       "      <th>4</th>\n",
       "      <td>-0.003874</td>\n",
       "      <td>0.368781</td>\n",
       "      <td>-0.156357</td>\n",
       "      <td>-0.034584</td>\n",
       "      <td>0.176745</td>\n",
       "      <td>-0.883545</td>\n",
       "      <td>0.003703</td>\n",
       "      <td>0.373616</td>\n",
       "      <td>-0.153591</td>\n",
       "      <td>-0.036641</td>\n",
       "      <td>...</td>\n",
       "      <td>0.023851</td>\n",
       "      <td>-1.710865</td>\n",
       "      <td>-0.569592</td>\n",
       "      <td>-1.752791</td>\n",
       "      <td>-0.397376</td>\n",
       "      <td>-0.462802</td>\n",
       "      <td>-0.370612</td>\n",
       "      <td>2.811243</td>\n",
       "      <td>-1.352922</td>\n",
       "      <td>-0.545469</td>\n",
       "    </tr>\n",
       "  </tbody>\n",
       "</table>\n",
       "<p>5 rows × 38 columns</p>\n",
       "</div>"
      ],
      "text/plain": [
       "         0         1         2         3         4         5         6   \\\n",
       "0 -0.087796  0.833324 -1.109329  1.361711  0.500159 -1.365481 -0.082857   \n",
       "1  0.499662 -0.839031  0.498617 -0.694372 -0.262175 -0.006962  0.523066   \n",
       "2  0.415739 -0.312549 -0.323981  0.172559 -0.262175 -0.308436  0.436506   \n",
       "3  2.010268 -0.023500 -0.274314  0.111183  0.153643 -1.406963  2.081153   \n",
       "4 -0.003874  0.368781 -0.156357 -0.034584  0.176745 -0.883545  0.003703   \n",
       "\n",
       "         7         8         9     ...           28        29        30  \\\n",
       "0  0.846621 -1.140228  1.372851    ...    -0.334317 -1.678321 -1.429507   \n",
       "1 -0.856198  0.524520 -0.702665    ...    -0.564937 -1.290501 -1.216842   \n",
       "2 -0.320125 -0.327136  0.172459    ...    -0.555567 -1.523735 -1.185524   \n",
       "3 -0.025811 -0.275716  0.110503    ...    -0.336978 -1.184732 -1.429507   \n",
       "4  0.373616 -0.153591 -0.036641    ...     0.023851 -1.710865 -0.569592   \n",
       "\n",
       "         31        32        33        34        35        36        37  \n",
       "0 -1.752791 -0.899197  1.887692 -0.394758  0.468899 -1.456592 -0.541334  \n",
       "1 -1.752791 -0.605578 -0.512749 -0.715554 -0.697181 -1.365734 -0.577457  \n",
       "2 -1.752791 -0.364277 -0.294802 -0.248733  2.001607 -1.387088 -0.575101  \n",
       "3 -1.752791 -0.926957 -0.443127 -0.424653  0.636937 -1.440473 -0.505500  \n",
       "4 -1.752791 -0.397376 -0.462802 -0.370612  2.811243 -1.352922 -0.545469  \n",
       "\n",
       "[5 rows x 38 columns]"
      ]
     },
     "execution_count": 83,
     "metadata": {},
     "output_type": "execute_result"
    }
   ],
   "source": [
    "new_data2=pd.DataFrame(x)\n",
    "new_data2.head(5)"
   ]
  },
  {
   "cell_type": "code",
   "execution_count": 89,
   "metadata": {},
   "outputs": [
    {
     "data": {
      "text/plain": [
       "[<matplotlib.lines.Line2D at 0x2010d4fc128>]"
      ]
     },
     "execution_count": 89,
     "metadata": {},
     "output_type": "execute_result"
    },
    {
     "data": {
      "image/png": "[encoded data removed]",
      "text/plain": [
       "<Figure size 432x288 with 1 Axes>"
      ]
     },
     "metadata": {
      "needs_background": "light"
     },
     "output_type": "display_data"
    }
   ],
   "source": [
    "from sklearn.decomposition import PCA\n",
    "\n",
    "#calculate variance explained and cumulative variance explained\n",
    "covar_matrix=PCA(n_components=38)\n",
    "covar_matrix.fit(x)\n",
    "variance=covar_matrix.explained_variance_ratio_\n",
    "var=np.cumsum(np.round(covar_matrix.explained_variance_ratio_, decimals=3)*100)\n",
    "\n",
    "#print graph of the variance explained with [n] features\n",
    "plt.ylabel('%variance explained')\n",
    "plt.xlabel('# of principle components')\n",
    "plt.title('Variance Explained')\n",
    "plt.ylim(70,100.5)\n",
    "plt.style.context('seaborn-whitegrid')\n",
    "plt.plot(var)"
   ]
  },
  {
   "cell_type": "code",
   "execution_count": 107,
   "metadata": {},
   "outputs": [
    {
     "name": "stdout",
     "output_type": "stream",
     "text": [
      "Cumulative explained variance for 25 principal components:0.9987114698816841\n"
     ]
    },
    {
     "data": {
      "text/plain": [
       "array([[-3.17515078e+00, -2.85457471e+00, -2.62626440e-01, ...,\n",
       "         4.65755589e-02,  2.63501692e-01, -1.82332091e-01],\n",
       "       [-4.59055006e+00,  1.30042193e+00,  6.47735482e-01, ...,\n",
       "         3.77450456e-01, -2.38619752e-01, -2.40476569e-03],\n",
       "       [-2.60769175e+00,  3.06676352e-01,  6.51122849e-01, ...,\n",
       "         1.09358015e-01, -1.77289855e-01,  6.37057435e-03],\n",
       "       ...,\n",
       "       [ 6.77881622e-01,  1.74678806e+00, -7.43307575e-01, ...,\n",
       "        -3.16964957e-01, -9.04536903e-02, -2.53479177e-01],\n",
       "       [-1.20418568e+00, -2.71099079e+00, -6.10949182e-01, ...,\n",
       "         5.47696488e-02,  1.16149663e-01, -2.96614851e-02],\n",
       "       [ 3.54692662e+00,  1.90206098e+00, -1.63276863e+00, ...,\n",
       "         2.08181621e-01,  5.71571577e-02, -3.09646161e-01]])"
      ]
     },
     "execution_count": 107,
     "metadata": {},
     "output_type": "execute_result"
    }
   ],
   "source": [
    "#Use PCA BEFORE feeding into tSNE\n",
    "pca_25=PCA(n_components=25)\n",
    "pca_result_25=pca_25.fit_transform(x)\n",
    "print ('Cumulative explained variance for 25 principal components:{}'.format(np.sum(pca_25.explained_variance_ratio_)))\n",
    "pca_result_25"
   ]
  },
  {
   "cell_type": "code",
   "execution_count": 148,
   "metadata": {},
   "outputs": [
    {
     "name": "stdout",
     "output_type": "stream",
     "text": [
      "tSNE done. Time elapsed:76.07456994056702 seconds\n"
     ]
    }
   ],
   "source": [
    "#RUNNING THE TSNE\n",
    "n_sne = 5000 #with the code below, only runs the tsne on the first [n] number of values\n",
    "\n",
    "tsne=TSNE(n_components=2, n_iter=1000, perplexity=40,random_state=123)\n",
    "rndperm=np.random.permutation(new_data2.shape[0])\n",
    "time_start=time.time()\n",
    "\n",
    "#tsne_pca_results=tsne.fit_transform(pca_result_25[rndperm[:n_sne]])\n",
    "tsne_pca_results=tsne.fit_transform(pca_result_25)\n",
    "\n",
    "print ('tSNE done. Time elapsed:{} seconds'.format(time.time()-time_start))\n"
   ]
  },
  {
   "cell_type": "code",
   "execution_count": 142,
   "metadata": {
    "scrolled": true
   },
   "outputs": [
    {
     "data": {
      "text/plain": [
       "<matplotlib.collections.PathCollection at 0x20175ce47f0>"
      ]
     },
     "execution_count": 142,
     "metadata": {},
     "output_type": "execute_result"
    },
    {
     "data": {
      "image/png": "[encoded data removed]",
      "text/plain": [
       "<Figure size 432x288 with 1 Axes>"
      ]
     },
     "metadata": {
      "needs_background": "light"
     },
     "output_type": "display_data"
    }
   ],
   "source": [
    "#PLOT tSNE results, using data from PCA \n",
    "from ggplot import *\n",
    "df_tsne = None\n",
    "df_tsne = new_data2.loc[rndperm[:n_sne],:].copy()\n",
    "\n",
    "df_tsne['x-tsne-pca'] = tsne_pca_results[:,0]\n",
    "df_tsne['y-tsne-pca'] = tsne_pca_results[:,1]\n",
    "\n",
    "chart = ggplot(df_tsne, aes(x='x-tsne-pca', y='y-tsne-pca') ) \\\n",
    "        + geom_point(size=70,alpha=0.1) \\\n",
    "        + ggtitle(\"tSNE from PCA data (PCAs=25)\")\n",
    "chart\n",
    "\n",
    "#regular plot of tsne\n",
    "plt.title('tSNE from PCA data (PCAs=25)')\n",
    "plt.scatter(tsne_pca_results[:,0], tsne_pca_results[:,1])"
   ]
  },
  {
   "cell_type": "code",
   "execution_count": 138,
   "metadata": {
    "collapsed": true
   },
   "outputs": [
    {
     "data": {
      "text/html": [
       "<div>\n",
       "<style scoped>\n",
       "    .dataframe tbody tr th:only-of-type {\n",
       "        vertical-align: middle;\n",
       "    }\n",
       "\n",
       "    .dataframe tbody tr th {\n",
       "        vertical-align: top;\n",
       "    }\n",
       "\n",
       "    .dataframe thead th {\n",
       "        text-align: right;\n",
       "    }\n",
       "</style>\n",
       "<table border=\"1\" class=\"dataframe\">\n",
       "  <thead>\n",
       "    <tr style=\"text-align: right;\">\n",
       "      <th></th>\n",
       "      <th>0</th>\n",
       "      <th>1</th>\n",
       "      <th>2</th>\n",
       "      <th>3</th>\n",
       "      <th>4</th>\n",
       "      <th>5</th>\n",
       "      <th>6</th>\n",
       "      <th>7</th>\n",
       "      <th>8</th>\n",
       "      <th>9</th>\n",
       "      <th>...</th>\n",
       "      <th>15</th>\n",
       "      <th>16</th>\n",
       "      <th>17</th>\n",
       "      <th>18</th>\n",
       "      <th>19</th>\n",
       "      <th>20</th>\n",
       "      <th>21</th>\n",
       "      <th>22</th>\n",
       "      <th>23</th>\n",
       "      <th>24</th>\n",
       "    </tr>\n",
       "  </thead>\n",
       "  <tbody>\n",
       "    <tr>\n",
       "      <th>0</th>\n",
       "      <td>-3.175151</td>\n",
       "      <td>-2.854575</td>\n",
       "      <td>-0.262626</td>\n",
       "      <td>0.962904</td>\n",
       "      <td>3.864523</td>\n",
       "      <td>0.574328</td>\n",
       "      <td>-0.620258</td>\n",
       "      <td>1.975108</td>\n",
       "      <td>0.728949</td>\n",
       "      <td>1.297808</td>\n",
       "      <td>...</td>\n",
       "      <td>-0.141638</td>\n",
       "      <td>-0.514680</td>\n",
       "      <td>0.271170</td>\n",
       "      <td>0.201498</td>\n",
       "      <td>-0.121300</td>\n",
       "      <td>-0.181803</td>\n",
       "      <td>0.110795</td>\n",
       "      <td>0.046576</td>\n",
       "      <td>0.263502</td>\n",
       "      <td>-0.182332</td>\n",
       "    </tr>\n",
       "    <tr>\n",
       "      <th>1</th>\n",
       "      <td>-4.590550</td>\n",
       "      <td>1.300422</td>\n",
       "      <td>0.647735</td>\n",
       "      <td>-0.200112</td>\n",
       "      <td>0.954340</td>\n",
       "      <td>-0.230864</td>\n",
       "      <td>0.511624</td>\n",
       "      <td>0.054346</td>\n",
       "      <td>0.375240</td>\n",
       "      <td>0.899572</td>\n",
       "      <td>...</td>\n",
       "      <td>0.657812</td>\n",
       "      <td>0.427095</td>\n",
       "      <td>0.450383</td>\n",
       "      <td>-0.254813</td>\n",
       "      <td>0.268416</td>\n",
       "      <td>0.231435</td>\n",
       "      <td>0.155784</td>\n",
       "      <td>0.377450</td>\n",
       "      <td>-0.238620</td>\n",
       "      <td>-0.002405</td>\n",
       "    </tr>\n",
       "    <tr>\n",
       "      <th>2</th>\n",
       "      <td>-2.607692</td>\n",
       "      <td>0.306676</td>\n",
       "      <td>0.651123</td>\n",
       "      <td>-1.440847</td>\n",
       "      <td>4.394388</td>\n",
       "      <td>-0.113349</td>\n",
       "      <td>0.817477</td>\n",
       "      <td>0.994219</td>\n",
       "      <td>1.247233</td>\n",
       "      <td>-0.512281</td>\n",
       "      <td>...</td>\n",
       "      <td>-0.419844</td>\n",
       "      <td>0.337178</td>\n",
       "      <td>0.963288</td>\n",
       "      <td>0.166252</td>\n",
       "      <td>0.001671</td>\n",
       "      <td>0.096362</td>\n",
       "      <td>-0.053332</td>\n",
       "      <td>0.109358</td>\n",
       "      <td>-0.177290</td>\n",
       "      <td>0.006371</td>\n",
       "    </tr>\n",
       "    <tr>\n",
       "      <th>3</th>\n",
       "      <td>-3.742633</td>\n",
       "      <td>0.071332</td>\n",
       "      <td>0.940486</td>\n",
       "      <td>-0.872892</td>\n",
       "      <td>2.818449</td>\n",
       "      <td>0.989527</td>\n",
       "      <td>-0.595013</td>\n",
       "      <td>0.439600</td>\n",
       "      <td>2.068215</td>\n",
       "      <td>1.780438</td>\n",
       "      <td>...</td>\n",
       "      <td>-0.235442</td>\n",
       "      <td>0.776597</td>\n",
       "      <td>-0.287015</td>\n",
       "      <td>1.012856</td>\n",
       "      <td>-0.557141</td>\n",
       "      <td>-0.558307</td>\n",
       "      <td>0.147031</td>\n",
       "      <td>-0.083263</td>\n",
       "      <td>-0.117207</td>\n",
       "      <td>0.040220</td>\n",
       "    </tr>\n",
       "    <tr>\n",
       "      <th>4</th>\n",
       "      <td>-2.082595</td>\n",
       "      <td>-0.418454</td>\n",
       "      <td>1.306395</td>\n",
       "      <td>-1.866778</td>\n",
       "      <td>3.583687</td>\n",
       "      <td>-1.271145</td>\n",
       "      <td>0.938912</td>\n",
       "      <td>1.675038</td>\n",
       "      <td>1.741492</td>\n",
       "      <td>-0.636528</td>\n",
       "      <td>...</td>\n",
       "      <td>-0.354196</td>\n",
       "      <td>-0.519699</td>\n",
       "      <td>-0.161386</td>\n",
       "      <td>0.919345</td>\n",
       "      <td>0.513603</td>\n",
       "      <td>-0.080341</td>\n",
       "      <td>0.902641</td>\n",
       "      <td>-0.122093</td>\n",
       "      <td>-0.139140</td>\n",
       "      <td>-0.014637</td>\n",
       "    </tr>\n",
       "  </tbody>\n",
       "</table>\n",
       "<p>5 rows × 25 columns</p>\n",
       "</div>"
      ],
      "text/plain": [
       "         0         1         2         3         4         5         6   \\\n",
       "0 -3.175151 -2.854575 -0.262626  0.962904  3.864523  0.574328 -0.620258   \n",
       "1 -4.590550  1.300422  0.647735 -0.200112  0.954340 -0.230864  0.511624   \n",
       "2 -2.607692  0.306676  0.651123 -1.440847  4.394388 -0.113349  0.817477   \n",
       "3 -3.742633  0.071332  0.940486 -0.872892  2.818449  0.989527 -0.595013   \n",
       "4 -2.082595 -0.418454  1.306395 -1.866778  3.583687 -1.271145  0.938912   \n",
       "\n",
       "         7         8         9     ...           15        16        17  \\\n",
       "0  1.975108  0.728949  1.297808    ...    -0.141638 -0.514680  0.271170   \n",
       "1  0.054346  0.375240  0.899572    ...     0.657812  0.427095  0.450383   \n",
       "2  0.994219  1.247233 -0.512281    ...    -0.419844  0.337178  0.963288   \n",
       "3  0.439600  2.068215  1.780438    ...    -0.235442  0.776597 -0.287015   \n",
       "4  1.675038  1.741492 -0.636528    ...    -0.354196 -0.519699 -0.161386   \n",
       "\n",
       "         18        19        20        21        22        23        24  \n",
       "0  0.201498 -0.121300 -0.181803  0.110795  0.046576  0.263502 -0.182332  \n",
       "1 -0.254813  0.268416  0.231435  0.155784  0.377450 -0.238620 -0.002405  \n",
       "2  0.166252  0.001671  0.096362 -0.053332  0.109358 -0.177290  0.006371  \n",
       "3  1.012856 -0.557141 -0.558307  0.147031 -0.083263 -0.117207  0.040220  \n",
       "4  0.919345  0.513603 -0.080341  0.902641 -0.122093 -0.139140 -0.014637  \n",
       "\n",
       "[5 rows x 25 columns]"
      ]
     },
     "execution_count": 138,
     "metadata": {},
     "output_type": "execute_result"
    }
   ],
   "source": [
    "#turn PCA results from an array to a dataframe > dataframe: pca_results_25_df\n",
    "pca_result_25_df=pd.DataFrame(pca_result_25)\n",
    "pca_result_25_df.head(5)"
   ]
  },
  {
   "cell_type": "code",
   "execution_count": 151,
   "metadata": {},
   "outputs": [
    {
     "name": "stdout",
     "output_type": "stream",
     "text": [
      "[5 5 3 ... 0 7 4]\n"
     ]
    },
    {
     "data": {
      "text/plain": [
       "<matplotlib.collections.PathCollection at 0x203335d6b00>"
      ]
     },
     "execution_count": 151,
     "metadata": {},
     "output_type": "execute_result"
    },
    {
     "data": {
      "image/png": "[encoded data removed]",
      "text/plain": [
       "<Figure size 432x288 with 1 Axes>"
      ]
     },
     "metadata": {
      "needs_background": "light"
     },
     "output_type": "display_data"
    }
   ],
   "source": [
    "#for ggplot implementation see https://medium.com/@luckylwk/visualising-high-dimensional-datasets-using-pca-and-t-sne-in-python-8ef87e7915b\n",
    "\n",
    "#RUN KMEANS ON PCA DATA\n",
    "kmeans = KMeans(n_clusters=8, random_state = 123)\n",
    "kmeans.fit(pca_result_25)\n",
    "print(kmeans.labels_)\n",
    "plt.scatter(tsne_pca_results[:,0], tsne_pca_results[:,1], c=kmeans.labels_)\n"
   ]
  },
  {
   "cell_type": "code",
   "execution_count": null,
   "metadata": {},
   "outputs": [],
   "source": []
  }
 ],
 "metadata": {
  "kernelspec": {
   "display_name": "Python 3",
   "language": "python",
   "name": "python3"
  },
  "language_info": {
   "codemirror_mode": {
    "name": "ipython",
    "version": 3
   },
   "file_extension": ".py",
   "mimetype": "text/x-python",
   "name": "python",
   "nbconvert_exporter": "python",
   "pygments_lexer": "ipython3",
   "version": "3.7.1"
  }
 },
 "nbformat": 4,
 "nbformat_minor": 2
}
